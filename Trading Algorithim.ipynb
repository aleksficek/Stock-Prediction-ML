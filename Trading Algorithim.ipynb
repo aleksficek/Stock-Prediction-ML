{
 "cells": [
  {
   "cell_type": "code",
   "execution_count": 8,
   "metadata": {},
   "outputs": [],
   "source": [
    "import csv\n",
    "import numpy as np\n",
    "from sklearn.svm import SVR\n",
    "import matplotlib.pyplot as plt\n",
    "import io\n",
    "import pandas as pd\n",
    "from IPython.display import HTML as html_print"
   ]
  },
  {
   "cell_type": "code",
   "execution_count": 9,
   "metadata": {},
   "outputs": [],
   "source": [
    "current_price = [200.0, 180.0, 220.0, 210.0, 400.0]\n",
    "future_price = [204.0, 198.0, 170.0, 222.0, 370.0]\n",
    "change_price = [4.0, 18.0, -50.0, 12.0, -30.0]\n",
    "scores = [0.99972, 0.999998, 0.9993, 0.99998, 0.99998]\n",
    "portfolio = [4.0, 10.0, 8.0, 0.0, 2.0]\n",
    "future_buying_power = 0\n",
    "future_portfolio = [0.0] * len(portfolio)\n",
    "future_per_stock = [0.0] * len(portfolio)\n",
    "companies = ['AAPL', 'AMZN', 'FB', 'GOOG', 'TSLA']"
   ]
  },
  {
   "cell_type": "code",
   "execution_count": 10,
   "metadata": {},
   "outputs": [],
   "source": [
    "def money_in_portfolio(current, port):\n",
    "    value = 0\n",
    "    for i in range(0, len(current)):\n",
    "        value += (current[i] * port[i])\n",
    "    return value"
   ]
  },
  {
   "cell_type": "code",
   "execution_count": 11,
   "metadata": {},
   "outputs": [],
   "source": [
    "def percent_change(current_price, change_price):\n",
    "    percentage_array = []\n",
    "    for i in range(0, len(current_price)):\n",
    "        percentage_array.append((change_price[i]/current_price[i]))\n",
    "    return percentage_array"
   ]
  },
  {
   "cell_type": "code",
   "execution_count": 12,
   "metadata": {},
   "outputs": [
    {
     "name": "stdout",
     "output_type": "stream",
     "text": [
      "[0.6997200000000001, 0.999998, 0.5992999999999999, 0.89998, 0.7999799999999999]\n"
     ]
    }
   ],
   "source": [
    "# scores = [0.99972, 0.999998, 0.9993, 0.99998, 0.99998]\n",
    "# above is for testing\n",
    "\n",
    "def score_relative(scores):\n",
    "    new_scores = [0.0] * len(scores)\n",
    "    \n",
    "    # mins = min(scores)\n",
    "    # maxs = max(scores)\n",
    "    # diff = 1 - (maxs - mins)    \n",
    "    # print(diff)\n",
    "    \n",
    "    # while (min(new_scores) >= 0.85):\n",
    "        # new_scores = np.asarray(new_scores) \n",
    "    for i in range(0, len(scores)):\n",
    "        max_value = max(scores)\n",
    "        max_index = scores.index(max_value)\n",
    "        new_scores[max_index] = max_value - i/10\n",
    "        scores[max_index] = 0\n",
    "        \n",
    "    \n",
    "    return new_scores\n",
    "    \n",
    "relative_scores = score_relative(scores)\n",
    "print(relative_scores)"
   ]
  },
  {
   "cell_type": "code",
   "execution_count": 13,
   "metadata": {},
   "outputs": [
    {
     "name": "stdout",
     "output_type": "stream",
     "text": [
      "5160.0\n",
      "[0.02, 0.1, -0.22727272727272727, 0.05714285714285714, -0.075]\n"
     ]
    }
   ],
   "source": [
    "buying_power = money_in_portfolio(current_price, portfolio)\n",
    "print(buying_power)\n",
    "\n",
    "percent_price = percent_change(current_price, change_price)\n",
    "print(percent_price)"
   ]
  },
  {
   "cell_type": "code",
   "execution_count": 14,
   "metadata": {},
   "outputs": [
    {
     "name": "stdout",
     "output_type": "stream",
     "text": [
      "[2.1826379241823104, 17.32942033088205, 0.0, 7.638936931451278, 0.0]\n",
      "[204.0, 198.0, 170.0, 222.0, 370.0]\n",
      "5160.0\n",
      "5572.3273608300215\n"
     ]
    }
   ],
   "source": [
    "# stuff = sorted(current_price)\n",
    "# print(stuff)\n",
    "\n",
    "def trade_alg(buying_power, current_price, percent_price, relative_scores):\n",
    "    \n",
    "    cv = [0.0] * len(current_price) # Array to store which stocks should be bought\n",
    "    sum_cv = 0\n",
    "    money_per_stock = [0.0] * len(current_price)\n",
    "    \n",
    "    for i in range(0, len(current_price)):\n",
    "        cv[i] = relative_scores[i] * percent_price[i]\n",
    "        if (cv[i] < 0):\n",
    "            cv[i] = 0.0\n",
    "            \n",
    "    sum_cv = sum(cv)\n",
    "    \n",
    "    for i in range(0, len(current_price)):\n",
    "        if (cv[i] > 0.0):\n",
    "            cv[i] /= sum_cv\n",
    "            money_per_stock[i] = cv[i] * buying_power\n",
    "        \n",
    "    return money_per_stock \n",
    "    \n",
    "    \n",
    "future_per_stock = trade_alg(buying_power, current_price, percent_price, relative_scores)\n",
    "\n",
    "# future_portfolio = (future_per_stock / future_price)\n",
    "future_portfolio = [future_per_stock/current_price for future_per_stock,current_price in zip (future_per_stock, current_price)]\n",
    "\n",
    "print( future_portfolio)\n",
    "print (future_price)\n",
    "\n",
    "future_buying_power = money_in_portfolio(future_price, future_portfolio)\n",
    "print(buying_power)\n",
    "print(future_buying_power)\n",
    "        "
   ]
  },
  {
   "cell_type": "code",
   "execution_count": null,
   "metadata": {},
   "outputs": [],
   "source": []
  },
  {
   "cell_type": "code",
   "execution_count": null,
   "metadata": {},
   "outputs": [],
   "source": []
  }
 ],
 "metadata": {
  "kernelspec": {
   "display_name": "Python 3",
   "language": "python",
   "name": "python3"
  },
  "language_info": {
   "codemirror_mode": {
    "name": "ipython",
    "version": 3
   },
   "file_extension": ".py",
   "mimetype": "text/x-python",
   "name": "python",
   "nbconvert_exporter": "python",
   "pygments_lexer": "ipython3",
   "version": "3.7.0"
  }
 },
 "nbformat": 4,
 "nbformat_minor": 2
}
